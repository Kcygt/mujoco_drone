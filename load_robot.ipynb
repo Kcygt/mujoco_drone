{
 "cells": [
  {
   "cell_type": "markdown",
   "id": "2aaeced6",
   "metadata": {},
   "source": [
    "This notebook is used to try to simulate drone inside mujoco."
   ]
  },
  {
   "cell_type": "code",
   "execution_count": 19,
   "id": "acd5e3b8",
   "metadata": {},
   "outputs": [
    {
     "name": "stdout",
     "output_type": "stream",
     "text": [
      "xml_path: skydio_x2/scene.xml (<class 'str'>)\n"
     ]
    }
   ],
   "source": [
    "import os\n",
    "\n",
    "xml_path = os.path.join('skydio_x2', 'scene.xml')\n",
    "print(f\"xml_path: {xml_path} ({type(xml_path)})\")\n"
   ]
  },
  {
   "cell_type": "code",
   "execution_count": 20,
   "id": "4dbdf4d0",
   "metadata": {},
   "outputs": [],
   "source": [
    "import mujoco\n",
    "\n",
    "model = mujoco.MjModel.from_xml_path(xml_path)\n",
    "data = mujoco.MjData(model)"
   ]
  },
  {
   "cell_type": "code",
   "execution_count": 21,
   "id": "2fe5d8e6",
   "metadata": {},
   "outputs": [
    {
     "ename": "AttributeError",
     "evalue": "__enter__",
     "output_type": "error",
     "traceback": [
      "\u001b[0;31m---------------------------------------------------------------------------\u001b[0m",
      "\u001b[0;31mAttributeError\u001b[0m                            Traceback (most recent call last)",
      "Cell \u001b[0;32mIn[21], line 3\u001b[0m\n\u001b[1;32m      1\u001b[0m \u001b[38;5;28;01mimport\u001b[39;00m\u001b[38;5;250m \u001b[39m\u001b[38;5;21;01mmujoco\u001b[39;00m\u001b[38;5;21;01m.\u001b[39;00m\u001b[38;5;21;01mviewer\u001b[39;00m \n\u001b[0;32m----> 3\u001b[0m \u001b[38;5;28;01mwith\u001b[39;00m mujoco\u001b[38;5;241m.\u001b[39mviewer\u001b[38;5;241m.\u001b[39mlaunch(model, data) \u001b[38;5;28;01mas\u001b[39;00m viewer:\n\u001b[1;32m      4\u001b[0m     \u001b[38;5;28;01mwhile\u001b[39;00m viewer\u001b[38;5;241m.\u001b[39mis_running():\n\u001b[1;32m      5\u001b[0m         mujoco\u001b[38;5;241m.\u001b[39mmj_step(model, data)\n",
      "\u001b[0;31mAttributeError\u001b[0m: __enter__"
     ]
    }
   ],
   "source": [
    "import mujoco.viewer \n",
    "\n",
    "with mujoco.viewer.launch(model, data) as viewer:\n",
    "    while viewer.is_running():\n",
    "        mujoco.mj_step(model, data)\n",
    "        viewer.sync()"
   ]
  }
 ],
 "metadata": {
  "kernelspec": {
   "display_name": "venv",
   "language": "python",
   "name": "python3"
  },
  "language_info": {
   "codemirror_mode": {
    "name": "ipython",
    "version": 3
   },
   "file_extension": ".py",
   "mimetype": "text/x-python",
   "name": "python",
   "nbconvert_exporter": "python",
   "pygments_lexer": "ipython3",
   "version": "3.10.12"
  }
 },
 "nbformat": 4,
 "nbformat_minor": 5
}
